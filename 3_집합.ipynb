{
  "nbformat": 4,
  "nbformat_minor": 0,
  "metadata": {
    "colab": {
      "provenance": []
    },
    "kernelspec": {
      "name": "python3",
      "display_name": "Python 3"
    },
    "language_info": {
      "name": "python"
    }
  },
  "cells": [
    {
      "cell_type": "code",
      "execution_count": 1,
      "metadata": {
        "colab": {
          "base_uri": "https://localhost:8080/"
        },
        "id": "tMluAKc1BvD-",
        "outputId": "bb34426f-faa3-41ed-978b-0fc2e6fb1110"
      },
      "outputs": [
        {
          "output_type": "stream",
          "name": "stdout",
          "text": [
            "{1, 2, 3}\n",
            "{2, 3, 4}\n",
            "{2, 3}\n",
            "{1, 2, 3, 4}\n",
            "{1}\n"
          ]
        }
      ],
      "source": [
        "s1=set([1,2,3])\n",
        "print(s1)\n",
        "s2=set([2,3,4])\n",
        "print(s2)\n",
        "\n",
        "print(s1 & s2)\n",
        "print(s1 | s2)\n",
        "print(s1 - s2)\n"
      ]
    },
    {
      "cell_type": "code",
      "source": [
        "# 두 은행의 고객 집합 합병\n",
        "bankA_customers = set([\"김철수\", \"이영희\", \"박민수\", \"최지우\"])\n",
        "bankB_customers = set([\"이영희\", \"최지우\", \"정우성\", \"한지민\"])\n",
        "\n",
        "print(\"은행 A 고객:\", bankA_customers)\n",
        "print(\"은행 B 고객:\", bankB_customers)\n",
        "\n",
        "# 두 은행의 전체 고객 집합 (합집합)\n",
        "total_customers = bankA_customers | bankB_customers\n",
        "print(\"합병 후 전체 고객:\", total_customers)\n",
        "\n",
        "# 두 은행 모두에 있는 공통 고객 (교집합)\n",
        "common_customers = bankA_customers & bankB_customers\n",
        "print(\"공통 고객:\", common_customers)\n",
        "\n",
        "# A 은행에만 있는 고객 (차집합)\n",
        "only_A_customers = bankA_customers - bankB_customers\n",
        "print(\"A 은행에만 있는 고객:\", only_A_customers)\n",
        "\n",
        "# B 은행에만 있는 고객 (차집합)\n",
        "only_B_customers = bankB_customers - bankA_customers\n",
        "print(\"B 은행에만 있는 고객:\", only_B_customers)\n"
      ],
      "metadata": {
        "colab": {
          "base_uri": "https://localhost:8080/"
        },
        "id": "Le5WBd5jC-Nh",
        "outputId": "a622b902-493a-492f-f877-1432f5a5e862"
      },
      "execution_count": 1,
      "outputs": [
        {
          "output_type": "stream",
          "name": "stdout",
          "text": [
            "은행 A 고객: {'이영희', '박민수', '김철수', '최지우'}\n",
            "은행 B 고객: {'한지민', '이영희', '정우성', '최지우'}\n",
            "합병 후 전체 고객: {'정우성', '최지우', '박민수', '한지민', '이영희', '김철수'}\n",
            "공통 고객: {'이영희', '최지우'}\n",
            "A 은행에만 있는 고객: {'박민수', '김철수'}\n",
            "B 은행에만 있는 고객: {'한지민', '정우성'}\n"
          ]
        }
      ]
    },
    {
      "cell_type": "code",
      "source": [
        "import numpy as np\n",
        "\n",
        "# 12가지 파버카스텔 색연필 색상 집합 (RGB 값 예시)\n",
        "faber_castell_colors = {\n",
        "    \"White\": (255, 255, 255),\n",
        "    \"Black\": (0, 0, 0),\n",
        "    \"Brown\": (150, 75, 0),\n",
        "    \"Orange\": (255, 127, 0),\n",
        "    \"Red\": (255, 0, 0),\n",
        "    \"Yellow\": (255, 255, 0),\n",
        "    \"Light Green\": (0,255, 0),\n",
        "    \"Green\": (0, 128, 0),\n",
        "    \"Light Blue\": (0, 255, 255),\n",
        "    \"Blue\": (0, 0, 255),\n",
        "    \"Purple\": (128, 0, 128),\n",
        "    \"Pink\": (255,192, 203)\n",
        "}\n",
        "\n",
        "# 입력 색상 (예: 사용자 입력값)\n",
        "input_color = (120, 100, 200) # 예를 들어 보라색 계열\n",
        "\n",
        "def find_nearest_color(input_rgb, color_set):\n",
        "    min_dist = float('inf')\n",
        "    nearest_name = None\n",
        "    for name, rgb in color_set.items():\n",
        "        # 유클리드 거리 계산\n",
        "        dist = np.sqrt(sum((a - b) ** 2 for a, b in zip(input_rgb, rgb)))\n",
        "        if dist < min_dist:\n",
        "            min_dist = dist\n",
        "            nearest_name = name\n",
        "    return nearest_name, color_set[nearest_name]\n",
        "\n",
        "nearest_name, nearest_rgb = find_nearest_color(input_color, faber_castell_colors)\n",
        "\n",
        "print(f\"입력 색상: {input_color}\")\n",
        "print(f\"가장 가까운 파버카스텔 색상: {nearest_name}, RGB: {nearest_rgb}\")"
      ],
      "metadata": {
        "colab": {
          "base_uri": "https://localhost:8080/"
        },
        "id": "RtoBVkf2vArk",
        "outputId": "68bb04ff-bc27-4e4a-8904-85380ca6a4eb"
      },
      "execution_count": 14,
      "outputs": [
        {
          "output_type": "stream",
          "name": "stdout",
          "text": [
            "입력 색상: (120, 100, 200)\n",
            "가장 가까운 파버카스텔 색상: Purple, RGB: (128, 0, 128)\n"
          ]
        }
      ]
    }
  ]
}